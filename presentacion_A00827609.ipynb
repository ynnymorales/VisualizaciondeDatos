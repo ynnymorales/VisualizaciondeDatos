{
 "cells": [
  {
   "cell_type": "markdown",
   "metadata": {},
   "source": [
    "# Some learning strategies"
   ]
  },
  {
   "cell_type": "markdown",
   "metadata": {},
   "source": [
    "\n",
    "1. `Predicting` - using contextual clues to guess at the topic\n",
    "\n",
    "2. `Using selective attention` - paying attention to only what seems important\n",
    "\n",
    "3. `Preparing` - thinking about what one want to communicate in advance\n",
    "\n",
    "4. `Looking ridiculous` - being willing to look foolish in order to complete a task\n",
    "\n",
    "5. `Practicing` \n",
    "\n",
    "6. `Monitoring` - correcting my own tasks for improvement \n",
    "\n",
    "7. `Asking questions` \n",
    "\n",
    "8. `Taking notes` \n",
    "\n",
    "9. `Finding answer in multiple ways`\n",
    "\n",
    "10. `Playing` - experimenting with the current knowledge. "
   ]
  },
  {
   "cell_type": "markdown",
   "metadata": {},
   "source": [
    "# Páginas para programar python"
   ]
  },
  {
   "cell_type": "markdown",
   "metadata": {},
   "source": [
    "1. www.mybinder.org\n",
    "2. www.kaggle.com\n",
    "3. www.jupyter.org/try\n",
    "4. www.replit.com/\n",
    "5. `github jobish` https://mybinder.org/v2/gh/jobish03/jobish03-Visualizacion_de_datos_para_la_toma_de_decisiones/main?filepath=welcome_binder.ipynb\n",
    "\n",
    "    Los paquetes hay que incluir en el archivo `requirements.txt`"
   ]
  },
  {
   "cell_type": "code",
   "execution_count": 1,
   "metadata": {},
   "outputs": [],
   "source": [
    "import pandas as pd\n",
    "import numpy as np\n",
    "import seaborn as sns\n",
    "import matplotlib as mpl\n",
    "import matplotlib.pyplot as plt"
   ]
  },
  {
   "cell_type": "code",
   "execution_count": 2,
   "metadata": {},
   "outputs": [],
   "source": [
    "#pip install matplotlib"
   ]
  },
  {
   "cell_type": "code",
   "execution_count": 3,
   "metadata": {},
   "outputs": [],
   "source": [
    "#pip install openpyxl"
   ]
  },
  {
   "cell_type": "code",
   "execution_count": 4,
   "metadata": {},
   "outputs": [],
   "source": [
    "#pip install xlrd"
   ]
  },
  {
   "cell_type": "markdown",
   "metadata": {},
   "source": [
    "# Dataset: Wifi Gratuito en Sitios Publicos."
   ]
  },
  {
   "cell_type": "markdown",
   "metadata": {},
   "source": [
    "### 1. Description of the dataset: The dataset shows how many connection points are "
   ]
  },
  {
   "cell_type": "markdown",
   "metadata": {},
   "source": [
    "The dataset shows how many connection points are in a hundred neighborhoods in different town halls."
   ]
  },
  {
   "cell_type": "code",
   "execution_count": 13,
   "metadata": {},
   "outputs": [],
   "source": [
    "df = pd.read_csv(\"https://raw.githubusercontent.com/AnderGM2/jobish03-Visualizacion_de_datos_para_la_toma_de_decisiones/main/datasets/wifi_gratuito_en_sitios_publicos.csv\", encoding = \"unicode_escape\")"
   ]
  },
  {
   "cell_type": "code",
   "execution_count": 14,
   "metadata": {},
   "outputs": [
    {
     "data": {
      "text/html": [
       "<div>\n",
       "<style scoped>\n",
       "    .dataframe tbody tr th:only-of-type {\n",
       "        vertical-align: middle;\n",
       "    }\n",
       "\n",
       "    .dataframe tbody tr th {\n",
       "        vertical-align: top;\n",
       "    }\n",
       "\n",
       "    .dataframe thead th {\n",
       "        text-align: right;\n",
       "    }\n",
       "</style>\n",
       "<table border=\"1\" class=\"dataframe\">\n",
       "  <thead>\n",
       "    <tr style=\"text-align: right;\">\n",
       "      <th></th>\n",
       "      <th>ID</th>\n",
       "      <th>Colonia</th>\n",
       "      <th>Alcaldía</th>\n",
       "      <th>Latitud</th>\n",
       "      <th>Longitud</th>\n",
       "      <th>Puntos_de_acceso</th>\n",
       "      <th>Programa</th>\n",
       "    </tr>\n",
       "  </thead>\n",
       "  <tbody>\n",
       "    <tr>\n",
       "      <th>0</th>\n",
       "      <td>Viveros De Coyoacán</td>\n",
       "      <td>DEL CARMEN</td>\n",
       "      <td>COYOACÁN</td>\n",
       "      <td>19.353700</td>\n",
       "      <td>-99.171770</td>\n",
       "      <td>1</td>\n",
       "      <td>Sitios_Publicos</td>\n",
       "    </tr>\n",
       "    <tr>\n",
       "      <th>1</th>\n",
       "      <td>Villa</td>\n",
       "      <td>VILLA GUSTAVO A MADERO</td>\n",
       "      <td>GUSTAVO A. MADERO</td>\n",
       "      <td>19.487100</td>\n",
       "      <td>-99.114290</td>\n",
       "      <td>1</td>\n",
       "      <td>Sitios_Publicos</td>\n",
       "    </tr>\n",
       "    <tr>\n",
       "      <th>2</th>\n",
       "      <td>Toxicológico Xochimilco</td>\n",
       "      <td>TIERRA NUEVA</td>\n",
       "      <td>XOCHIMILCO</td>\n",
       "      <td>19.264850</td>\n",
       "      <td>-99.114950</td>\n",
       "      <td>1</td>\n",
       "      <td>Sitios_Publicos</td>\n",
       "    </tr>\n",
       "    <tr>\n",
       "      <th>3</th>\n",
       "      <td>Toxicológico Venustiano Carranza</td>\n",
       "      <td>CUCHILLA PANTITLAN 2156</td>\n",
       "      <td>VENUSTIANO CARRANZA</td>\n",
       "      <td>19.421280</td>\n",
       "      <td>-99.068990</td>\n",
       "      <td>1</td>\n",
       "      <td>Sitios_Publicos</td>\n",
       "    </tr>\n",
       "    <tr>\n",
       "      <th>4</th>\n",
       "      <td>Ticomán</td>\n",
       "      <td>LA PURISIMA TICOMAN</td>\n",
       "      <td>GUSTAVO A. MADERO</td>\n",
       "      <td>19.509000</td>\n",
       "      <td>-99.132600</td>\n",
       "      <td>4</td>\n",
       "      <td>Sitios_Publicos</td>\n",
       "    </tr>\n",
       "    <tr>\n",
       "      <th>...</th>\n",
       "      <td>...</td>\n",
       "      <td>...</td>\n",
       "      <td>...</td>\n",
       "      <td>...</td>\n",
       "      <td>...</td>\n",
       "      <td>...</td>\n",
       "      <td>...</td>\n",
       "    </tr>\n",
       "    <tr>\n",
       "      <th>95</th>\n",
       "      <td>Alcaldía Azcapotzalco</td>\n",
       "      <td>CENTRO DE AZCAPOTZALCO</td>\n",
       "      <td>AZCAPOTZALCO</td>\n",
       "      <td>19.482700</td>\n",
       "      <td>-99.183700</td>\n",
       "      <td>4</td>\n",
       "      <td>Sitios_Publicos</td>\n",
       "    </tr>\n",
       "    <tr>\n",
       "      <th>96</th>\n",
       "      <td>Alcaldía Alvaro Obregón</td>\n",
       "      <td>TOLTECA</td>\n",
       "      <td>ÁLVARO OBREGÓN</td>\n",
       "      <td>19.389440</td>\n",
       "      <td>-99.195660</td>\n",
       "      <td>3</td>\n",
       "      <td>Sitios_Publicos</td>\n",
       "    </tr>\n",
       "    <tr>\n",
       "      <th>97</th>\n",
       "      <td>Alameda Central</td>\n",
       "      <td>CENTRO</td>\n",
       "      <td>CUAUHTÉMOC</td>\n",
       "      <td>19.436180</td>\n",
       "      <td>-99.144140</td>\n",
       "      <td>15</td>\n",
       "      <td>Sitios_Publicos</td>\n",
       "    </tr>\n",
       "    <tr>\n",
       "      <th>98</th>\n",
       "      <td>H. G. Cuautepec \"La Pastora\"</td>\n",
       "      <td>LA PASTORA 2257</td>\n",
       "      <td>GUSTAVO A. MADERO</td>\n",
       "      <td>19.524383</td>\n",
       "      <td>-99.139576</td>\n",
       "      <td>1</td>\n",
       "      <td>Sitios_Publicos</td>\n",
       "    </tr>\n",
       "    <tr>\n",
       "      <th>99</th>\n",
       "      <td>U. H. Pensador Mexicano</td>\n",
       "      <td>GUERRERO</td>\n",
       "      <td>CUAUHTÉMOC</td>\n",
       "      <td>19.437948</td>\n",
       "      <td>-99.140820</td>\n",
       "      <td>2</td>\n",
       "      <td>Sitios_Publicos</td>\n",
       "    </tr>\n",
       "  </tbody>\n",
       "</table>\n",
       "<p>100 rows × 7 columns</p>\n",
       "</div>"
      ],
      "text/plain": [
       "                                  ID                  Colonia  \\\n",
       "0                Viveros De Coyoacán               DEL CARMEN   \n",
       "1                              Villa   VILLA GUSTAVO A MADERO   \n",
       "2            Toxicológico Xochimilco             TIERRA NUEVA   \n",
       "3   Toxicológico Venustiano Carranza  CUCHILLA PANTITLAN 2156   \n",
       "4                            Ticomán      LA PURISIMA TICOMAN   \n",
       "..                               ...                      ...   \n",
       "95             Alcaldía Azcapotzalco   CENTRO DE AZCAPOTZALCO   \n",
       "96           Alcaldía Alvaro Obregón                  TOLTECA   \n",
       "97                   Alameda Central                   CENTRO   \n",
       "98      H. G. Cuautepec \"La Pastora\"          LA PASTORA 2257   \n",
       "99           U. H. Pensador Mexicano                 GUERRERO   \n",
       "\n",
       "               Alcaldía    Latitud   Longitud  Puntos_de_acceso  \\\n",
       "0              COYOACÁN  19.353700 -99.171770                 1   \n",
       "1     GUSTAVO A. MADERO  19.487100 -99.114290                 1   \n",
       "2            XOCHIMILCO  19.264850 -99.114950                 1   \n",
       "3   VENUSTIANO CARRANZA  19.421280 -99.068990                 1   \n",
       "4     GUSTAVO A. MADERO  19.509000 -99.132600                 4   \n",
       "..                  ...        ...        ...               ...   \n",
       "95         AZCAPOTZALCO  19.482700 -99.183700                 4   \n",
       "96       ÁLVARO OBREGÓN  19.389440 -99.195660                 3   \n",
       "97           CUAUHTÉMOC  19.436180 -99.144140                15   \n",
       "98    GUSTAVO A. MADERO  19.524383 -99.139576                 1   \n",
       "99           CUAUHTÉMOC  19.437948 -99.140820                 2   \n",
       "\n",
       "           Programa  \n",
       "0   Sitios_Publicos  \n",
       "1   Sitios_Publicos  \n",
       "2   Sitios_Publicos  \n",
       "3   Sitios_Publicos  \n",
       "4   Sitios_Publicos  \n",
       "..              ...  \n",
       "95  Sitios_Publicos  \n",
       "96  Sitios_Publicos  \n",
       "97  Sitios_Publicos  \n",
       "98  Sitios_Publicos  \n",
       "99  Sitios_Publicos  \n",
       "\n",
       "[100 rows x 7 columns]"
      ]
     },
     "execution_count": 14,
     "metadata": {},
     "output_type": "execute_result"
    }
   ],
   "source": [
    "df"
   ]
  },
  {
   "cell_type": "markdown",
   "metadata": {},
   "source": [
    "### 2. Interesting observations you discovered. This should intrigue the reader and make them want to know more."
   ]
  },
  {
   "cell_type": "markdown",
   "metadata": {},
   "source": [
    "The observations that I analized in this dataset were . . ."
   ]
  },
  {
   "cell_type": "markdown",
   "metadata": {},
   "source": [
    "### 3. Two/Three graphical visualisations illustrating the information you've discovered. At least one of your two graphs must support what is explained in (2)."
   ]
  },
  {
   "cell_type": "code",
   "execution_count": null,
   "metadata": {},
   "outputs": [],
   "source": []
  },
  {
   "cell_type": "markdown",
   "metadata": {},
   "source": [
    "### 4. Create 2/3 possible questions based on your dataset and try to answer with the tools you learned in class."
   ]
  },
  {
   "cell_type": "markdown",
   "metadata": {},
   "source": [
    "#### Questions"
   ]
  },
  {
   "cell_type": "markdown",
   "metadata": {},
   "source": [
    "1.- "
   ]
  },
  {
   "cell_type": "markdown",
   "metadata": {},
   "source": [
    "2.- "
   ]
  },
  {
   "cell_type": "markdown",
   "metadata": {},
   "source": [
    "### 5. Problems you have faced (limitations)."
   ]
  },
  {
   "cell_type": "markdown",
   "metadata": {},
   "source": [
    "* Some problems I had while doing the coding were that I could open correctly my datasets because the format was different from others, so I researched in google about `encoding = \"unicode_escape\"`, that was pretty useful to open my dataset in binder.\n",
    "\n",
    "* Other problem was that i couldn´t edit the graphs the way I wanted."
   ]
  },
  {
   "cell_type": "markdown",
   "metadata": {},
   "source": [
    "### 6. Next steps to take."
   ]
  },
  {
   "cell_type": "code",
   "execution_count": 10,
   "metadata": {},
   "outputs": [],
   "source": []
  }
 ],
 "metadata": {
  "kernelspec": {
   "display_name": "Python 3 (ipykernel)",
   "language": "python",
   "name": "python3"
  },
  "language_info": {
   "codemirror_mode": {
    "name": "ipython",
    "version": 3
   },
   "file_extension": ".py",
   "mimetype": "text/x-python",
   "name": "python",
   "nbconvert_exporter": "python",
   "pygments_lexer": "ipython3",
   "version": "3.8.12"
  }
 },
 "nbformat": 4,
 "nbformat_minor": 4
}
